{
 "cells": [
  {
   "cell_type": "code",
   "execution_count": 1,
   "metadata": {},
   "outputs": [],
   "source": [
    "from icecream import ic"
   ]
  },
  {
   "cell_type": "code",
   "execution_count": 2,
   "metadata": {},
   "outputs": [],
   "source": [
    "prefixes = [\n",
    "    'un', 're', 'in', 'dis', 'im', 'pre', 'mis', 'non', 'anti', 'de',\n",
    "    'over', 'under', 'sub', 'inter', 'trans', 'semi', 'fore', 'post', 'pro', 'mid'\n",
    "]\n",
    "\n",
    "suffixes = [\n",
    "    'ing', 'ed', 'es', 'er', 'ly', 'ness', 'ment', 'ful', 'ive', 'tion',\n",
    "    'sion', 'able', 'ible', 'al', 'ous', 'ity', 'est', 'less', 'ence', 'ance'\n",
    "]\n"
   ]
  },
  {
   "cell_type": "code",
   "execution_count": 3,
   "metadata": {},
   "outputs": [],
   "source": [
    "def custom_stem(word):\n",
    "    # Remove common prefixes if present\n",
    "    for prefix in prefixes:\n",
    "        if word.startswith(prefix):\n",
    "            word = word[len(prefix):]\n",
    "            break  # Remove only one prefix\n",
    "\n",
    "    # Remove common suffixes if present\n",
    "    for suffix in suffixes:\n",
    "        if word.endswith(suffix):\n",
    "            word = word[:-len(suffix)]\n",
    "            break  # Remove only one suffix\n",
    "\n",
    "    return word"
   ]
  },
  {
   "cell_type": "code",
   "execution_count": 4,
   "metadata": {},
   "outputs": [],
   "source": [
    "# Test the custom stemmer\n",
    "words = [\n",
    "    'unhappiness', 'recovery', 'misunderstood', 'running', 'happiness',\n",
    "    'prevalent', 'disapproval', 'overloading', 'underestimate', 'submarine',\n",
    "    'interact', 'transition', 'semicircle', 'forewarned', 'postgraduate',\n",
    "    'proactive', 'midpoint', 'antivirus', 'deactivation', 'endless',\n",
    "    'beautiful', 'invisible', 'movable', 'boldness', 'cleanliness'\n",
    "]\n",
    "\n",
    "stemmed_words = [custom_stem(word) for word in words]"
   ]
  },
  {
   "cell_type": "code",
   "execution_count": 5,
   "metadata": {},
   "outputs": [
    {
     "name": "stdout",
     "output_type": "stream",
     "text": [
      "['unhappiness', 'recovery', 'misunderstood', 'running', 'happiness', 'prevalent', 'disapproval', 'overloading', 'underestimate', 'submarine', 'interact', 'transition', 'semicircle', 'forewarned', 'postgraduate', 'proactive', 'midpoint', 'antivirus', 'deactivation', 'endless', 'beautiful', 'invisible', 'movable', 'boldness', 'cleanliness']\n"
     ]
    }
   ],
   "source": [
    "print(words)"
   ]
  },
  {
   "cell_type": "code",
   "execution_count": 6,
   "metadata": {},
   "outputs": [
    {
     "name": "stdout",
     "output_type": "stream",
     "text": [
      "['happi', 'covery', 'understood', 'runn', 'happi', 'valent', 'approv', 'load', 'derestimate', 'marine', 'teract', 'i', 'circle', 'warn', 'graduate', 'act', 'point', 'virus', 'activa', 'end', 'beauti', 'vis', 'mov', 'bold', 'cleanli']\n"
     ]
    }
   ],
   "source": [
    "print(stemmed_words)"
   ]
  },
  {
   "cell_type": "code",
   "execution_count": null,
   "metadata": {},
   "outputs": [],
   "source": []
  }
 ],
 "metadata": {
  "kernelspec": {
   "display_name": ".venv",
   "language": "python",
   "name": "python3"
  },
  "language_info": {
   "codemirror_mode": {
    "name": "ipython",
    "version": 3
   },
   "file_extension": ".py",
   "mimetype": "text/x-python",
   "name": "python",
   "nbconvert_exporter": "python",
   "pygments_lexer": "ipython3",
   "version": "3.10.11"
  }
 },
 "nbformat": 4,
 "nbformat_minor": 2
}
